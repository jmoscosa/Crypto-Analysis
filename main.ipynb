{
 "cells": [
  {
   "cell_type": "code",
   "execution_count": 1,
   "metadata": {},
   "outputs": [],
   "source": [
    "#All libraries that will be used thorughout this project\n",
    "import pandas as pd\n",
    "import numpy as np\n",
    "import seaborn as sbs\n",
    "from sklearn.linear_model import LinearRegression\n",
    "from sklearn.svm import SVR\n",
    "from sklearn.model_selection import train_test_split"
   ]
  },
  {
   "cell_type": "code",
   "execution_count": 2,
   "metadata": {},
   "outputs": [],
   "source": [
    "# Import Data that will be used for analysis\n",
    "\n",
    "#Shiba data\n",
    "shiba_df = pd.read_csv(\"D:\\Portfolio Projects\\Python Stock Analysis\\Coins Data\\SHIB-USD.csv\")\n",
    "\n",
    "#Doge data\n",
    "doge_df = pd.read_csv(\"D:\\Portfolio Projects\\Python Stock Analysis\\Coins Data\\DOGE-USD.csv\")"
   ]
  },
  {
   "cell_type": "code",
   "execution_count": 3,
   "metadata": {},
   "outputs": [],
   "source": [
    "# After examination a minimum amount of data cleaning was needed.\n",
    "\n",
    "#Shiba - Need to drop lines with $0 dlls value on 'Adj Close' and NaNs \n",
    "shiba_df = shiba_df[shiba_df.Close != 0]\n",
    "shiba_df = shiba_df.dropna()\n",
    "shiba_df = shiba_df.reset_index(drop = True)\n",
    "\n",
    "#Doge - Need to drop lines with NaNs\n",
    "doge_df = doge_df.dropna()\n",
    "doge_df = doge_df.reset_index(drop = True)"
   ]
  },
  {
   "cell_type": "code",
   "execution_count": 4,
   "metadata": {},
   "outputs": [],
   "source": [
    "# For this Analysis we will be focusing on 'Adj Close' along with the Dates\n",
    "\n",
    "#Creating a variable for the Adj Close Amount for each Coin\n",
    "shiba_close = shiba_df[['Date','Adj Close']]\n",
    "\n",
    "doge_close = doge_df[['Date','Adj Close']]\n"
   ]
  },
  {
   "cell_type": "code",
   "execution_count": 5,
   "metadata": {},
   "outputs": [],
   "source": [
    "# Here we will be leaving variables that we will be using throughout the program \n",
    "# you can adjust them at will to change the analysis we will be doing\n",
    "\n",
    "####################################\n",
    "##Prediction of Days in the Future##\n",
    "####################################\n",
    "\n",
    "Future_Prediciton = 10"
   ]
  },
  {
   "cell_type": "code",
   "execution_count": 6,
   "metadata": {},
   "outputs": [],
   "source": [
    "# The first approach will be to create a linear regresion to predict future prices\n",
    "# Let's create data frames for this first approach that way we will always have our previous data frames ready to be used in different models\n",
    "\n",
    "shiba_linear = shiba_close\n",
    "doge_linear = doge_close\n",
    "\n",
    "\n"
   ]
  },
  {
   "cell_type": "code",
   "execution_count": 7,
   "metadata": {},
   "outputs": [
    {
     "name": "stderr",
     "output_type": "stream",
     "text": [
      "<ipython-input-7-4988c45e1912>:3: SettingWithCopyWarning: \n",
      "A value is trying to be set on a copy of a slice from a DataFrame.\n",
      "Try using .loc[row_indexer,col_indexer] = value instead\n",
      "\n",
      "See the caveats in the documentation: https://pandas.pydata.org/pandas-docs/stable/user_guide/indexing.html#returning-a-view-versus-a-copy\n",
      "  shiba_linear['Future Prediction'] = shiba_linear[['Adj Close']].shift(-Future_Prediciton)\n",
      "<ipython-input-7-4988c45e1912>:4: SettingWithCopyWarning: \n",
      "A value is trying to be set on a copy of a slice from a DataFrame.\n",
      "Try using .loc[row_indexer,col_indexer] = value instead\n",
      "\n",
      "See the caveats in the documentation: https://pandas.pydata.org/pandas-docs/stable/user_guide/indexing.html#returning-a-view-versus-a-copy\n",
      "  doge_linear['Future Prediction'] = doge_linear[['Adj Close']].shift(-Future_Prediciton)\n"
     ]
    }
   ],
   "source": [
    "# Lets creat new columns on each data frame and lets call them \"Future Prediction\"\n",
    "# on this new column we are going to use shift (and our targeted days to predict)\n",
    "shiba_linear['Future Prediction'] = shiba_linear[['Adj Close']].shift(-Future_Prediciton)\n",
    "doge_linear['Future Prediction'] = doge_linear[['Adj Close']].shift(-Future_Prediciton)"
   ]
  },
  {
   "cell_type": "code",
   "execution_count": 8,
   "metadata": {},
   "outputs": [],
   "source": [
    "# Now we will creat the indepedent (x) data sets for each coin\n",
    "shiba_x = np.array(shiba_close.drop(['Date','Future Prediction'],1))\n",
    "doge_x = np.array(doge_close.drop(['Date', 'Future Prediction'],1))\n",
    "\n",
    "# Next we want to remove from this set the number of days that we want to forecast (this is how we will test the model)\n",
    "shiba_x = shiba_x[:-Future_Prediciton]\n",
    "doge_x = doge_x[:-Future_Prediciton]"
   ]
  },
  {
   "cell_type": "code",
   "execution_count": 9,
   "metadata": {},
   "outputs": [],
   "source": [
    "# Now we will create the dependent data frame (y) which will be coming fomr th \"Future Prediciton\" Column\n",
    "shiba_y = np.array(shiba_close.drop(['Date','Adj Close'],1))\n",
    "doge_y = np.array(doge_close.drop(['Date','Adj Close'],1))\n",
    "\n",
    "# We also want to remove the forecasted days from this set\n",
    "shiba_y = shiba_y[:-Future_Prediciton]\n",
    "doge_y = doge_y[:-Future_Prediciton]\n"
   ]
  },
  {
   "cell_type": "code",
   "execution_count": 10,
   "metadata": {},
   "outputs": [],
   "source": [
    "# Here we will set the traning and testing percentages that will be used in our Linear Regresion model\n",
    "\n",
    "# For Shiba\n",
    "shiba_x_train, shiba_x_test, shiba_y_train, shiba_y_test = train_test_split(shiba_x, shiba_y, test_size=0.2)\n",
    "\n",
    "# For Doge\n",
    "doge_x_train, doge_x_test, doge_y_train, doge_y_test = train_test_split(doge_x, doge_y, test_size=0.2)"
   ]
  },
  {
   "cell_type": "code",
   "execution_count": 11,
   "metadata": {},
   "outputs": [
    {
     "data": {
      "text/plain": [
       "SVR(C=1000.0, gamma=0.1)"
      ]
     },
     "execution_count": 11,
     "metadata": {},
     "output_type": "execute_result"
    }
   ],
   "source": [
    "# Now we create and train the SVM regressor for each coin\n",
    "\n",
    "#Shiba\n",
    "shiba_svr_rbf = SVR(kernel='rbf', C=1e3, gamma=0.1)\n",
    "shiba_svr_rbf.fit(shiba_x_train, np.ravel(shiba_y_train))\n",
    "\n",
    "#Doge\n",
    "doge_svr_rbf = SVR(kernel='rbf', C=1e3, gamma=0.1)\n",
    "doge_svr_rbf.fit(doge_x_train, np.ravel(doge_y_train))\n"
   ]
  },
  {
   "cell_type": "code",
   "execution_count": 12,
   "metadata": {},
   "outputs": [
    {
     "name": "stdout",
     "output_type": "stream",
     "text": [
      "Shiba confidence is :  -1.3831598199210489\n",
      "Doge confidence is :  0.27599284904180976\n"
     ]
    }
   ],
   "source": [
    "# Here we will test the confidence level on the previous calculations\n",
    "# For reference the best number we can get is 1.00\n",
    "\n",
    "shiba_svm_confidence = shiba_svr_rbf.score(shiba_x_test, shiba_y_test)\n",
    "print(\"Shiba confidence is : \", shiba_svm_confidence)\n",
    "\n",
    "doge_svm_confidence = doge_svr_rbf.score(doge_x_test, doge_y_test)\n",
    "print(\"Doge confidence is : \", doge_svm_confidence)"
   ]
  },
  {
   "cell_type": "markdown",
   "metadata": {},
   "source": [
    "From the results above you can see that both coins are pretty hard to group/lable the prices or \"learn\" from them. \n",
    "The negative confidence in Shiba means that the program did not learn anything from the data set\n",
    "Even though Doge is considerably low it demonstrated to be a bit easier to \"learn\" from the data provided. \n",
    "\n",
    "This numbers would be different if they would be looking at steady numbers like regular stocks. Or any assets that is not as volatile as Cryptocurrency at the moment. SVM seems to be unefficient trying to group prices for these two coins.\n",
    "\n",
    "Nevertheless we will still try to apply the regression model on both coins. "
   ]
  },
  {
   "cell_type": "code",
   "execution_count": 13,
   "metadata": {},
   "outputs": [
    {
     "name": "stdout",
     "output_type": "stream",
     "text": [
      "Shiba Confidence Score is :  0.7346921662609301\n"
     ]
    }
   ],
   "source": [
    "# Here we will create the Liner Regresion for Shiba Inu\n",
    "\n",
    "shiba_lr = LinearRegression()\n",
    "\n",
    "# Now we will trian the model \n",
    "\n",
    "shiba_lr.fit(shiba_x_train, shiba_y_train)\n",
    "\n",
    "# Now we will test the confidence score\n",
    "shiba_lr_confidence = shiba_lr.score(shiba_x_test, shiba_y_test)\n",
    "print(\"Shiba Confidence Score is : \", shiba_lr_confidence)\n"
   ]
  },
  {
   "cell_type": "code",
   "execution_count": 14,
   "metadata": {},
   "outputs": [
    {
     "name": "stdout",
     "output_type": "stream",
     "text": [
      "Doge Confidence Score is :  0.8884959261021148\n"
     ]
    }
   ],
   "source": [
    "# Here we will create the Liner Regresion for Doge\n",
    "\n",
    "doge_lr = LinearRegression()\n",
    "\n",
    "# Now we will trian the model \n",
    "\n",
    "doge_lr.fit(doge_x_train, doge_y_train)\n",
    "\n",
    "# Now we will test the confidence score\n",
    "doge_lr_confidence = doge_lr.score(doge_x_test, doge_y_test)\n",
    "print(\"Doge Confidence Score is : \", doge_lr_confidence)"
   ]
  },
  {
   "cell_type": "markdown",
   "metadata": {},
   "source": [
    "It looks like Linear Regression is going to be our best bet to analyze these coins.\n",
    "\n",
    "Let's go ahead and try to predict future prices for each coin using linear regresion"
   ]
  },
  {
   "cell_type": "code",
   "execution_count": 16,
   "metadata": {},
   "outputs": [],
   "source": [
    "# Here we are only going to keep the amount of days we want to predict focusing on Adj Close Price\n",
    "\n",
    "#Shiba\n",
    "shiba_forecast = np.array(shiba_close.drop(['Date', 'Future Prediction'],1))[-Future_Prediciton:]\n",
    "\n",
    "#Doge\n",
    "doge_forecast = np.array(doge_close.drop(['Date','Future Prediction'],1))[-Future_Prediciton:]"
   ]
  },
  {
   "cell_type": "code",
   "execution_count": 18,
   "metadata": {},
   "outputs": [
    {
     "name": "stdout",
     "output_type": "stream",
     "text": [
      "[[0.000025]\n",
      " [0.000025]\n",
      " [0.000026]\n",
      " [0.000026]\n",
      " [0.000025]\n",
      " [0.000025]\n",
      " [0.000025]\n",
      " [0.000026]\n",
      " [0.000025]\n",
      " [0.000025]]\n"
     ]
    }
   ],
   "source": [
    "# Finally let's look at the predictions for future prices\n",
    "\n",
    "#Shiba\n",
    "shiba_prediciton = shiba_lr.predict(shiba_forecast)\n",
    "\n",
    "np.set_printoptions(formatter={'float_kind':'{:f}'.format})\n",
    "print(shiba_prediciton)"
   ]
  },
  {
   "cell_type": "code",
   "execution_count": 19,
   "metadata": {},
   "outputs": [
    {
     "name": "stdout",
     "output_type": "stream",
     "text": [
      "[[0.132423]\n",
      " [0.140803]\n",
      " [0.138841]\n",
      " [0.140555]\n",
      " [0.139364]\n",
      " [0.134274]\n",
      " [0.137573]\n",
      " [0.135302]\n",
      " [0.142430]\n",
      " [0.144451]]\n"
     ]
    }
   ],
   "source": [
    "#Doge\n",
    "\n",
    "doge_prediction = doge_lr.predict(doge_forecast)\n",
    "\n",
    "print(doge_prediction)"
   ]
  }
 ],
 "metadata": {
  "interpreter": {
   "hash": "2ab52368cbb5ce394f6e8cc4961c91973870b823039c8128862277bd991d513a"
  },
  "kernelspec": {
   "display_name": "Python 3.8.5 ('base')",
   "language": "python",
   "name": "python3"
  },
  "language_info": {
   "codemirror_mode": {
    "name": "ipython",
    "version": 3
   },
   "file_extension": ".py",
   "mimetype": "text/x-python",
   "name": "python",
   "nbconvert_exporter": "python",
   "pygments_lexer": "ipython3",
   "version": "3.8.5"
  },
  "orig_nbformat": 4
 },
 "nbformat": 4,
 "nbformat_minor": 2
}

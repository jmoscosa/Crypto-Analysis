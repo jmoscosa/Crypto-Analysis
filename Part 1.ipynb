{
 "cells": [
  {
   "cell_type": "code",
   "execution_count": 1,
   "metadata": {},
   "outputs": [],
   "source": [
    "#All libraries that will be used thorughout this project\n",
    "import pandas as pd\n",
    "import numpy as np\n",
    "import seaborn as sbs\n",
    "import datetime\n",
    "import matplotlib.pyplot as plt\n",
    "from dateutil import parser\n",
    "from sklearn.linear_model import LinearRegression\n",
    "from sklearn.svm import SVR\n",
    "from sklearn.model_selection import train_test_split"
   ]
  },
  {
   "cell_type": "code",
   "execution_count": 2,
   "metadata": {},
   "outputs": [],
   "source": [
    "# Import Data that will be used for analysis\n",
    "\n",
    "#Shiba data\n",
    "shiba_df = pd.read_csv(\"D:\\Portfolio Projects\\Python Stock Analysis\\Coins Data\\SHIB-USD.csv\")\n",
    "\n",
    "#Doge data\n",
    "doge_df = pd.read_csv(\"D:\\Portfolio Projects\\Python Stock Analysis\\Coins Data\\DOGE-USD.csv\")"
   ]
  },
  {
   "cell_type": "code",
   "execution_count": 3,
   "metadata": {},
   "outputs": [],
   "source": [
    "# After examination a minimum amount of data cleaning was needed.\n",
    "\n",
    "#Shiba - Need to drop lines with $0 dlls value on 'Adj Close' and NaNs \n",
    "shiba_df = shiba_df[shiba_df.Close != 0]\n",
    "shiba_df = shiba_df.dropna()\n",
    "shiba_df = shiba_df.reset_index(drop = True)\n",
    "\n",
    "#Doge - Need to drop lines with NaNs\n",
    "doge_df = doge_df.dropna()\n",
    "doge_df = doge_df.reset_index(drop = True)"
   ]
  },
  {
   "cell_type": "code",
   "execution_count": 4,
   "metadata": {},
   "outputs": [],
   "source": [
    "# For this Analysis we will be focusing on 'Adj Close' along with the Dates\n",
    "\n",
    "#Creating a variable for the Adj Close Amount for each Coin\n",
    "shiba_close = shiba_df[['Date','Adj Close']]\n",
    "\n",
    "doge_close = doge_df[['Date','Adj Close']]\n"
   ]
  },
  {
   "cell_type": "code",
   "execution_count": 5,
   "metadata": {},
   "outputs": [],
   "source": [
    "# Here we will be leaving variables that we will be using throughout the program \n",
    "# you can adjust them at will to change the analysis we will be doing\n",
    "\n",
    "####################################\n",
    "##Prediction of Days in the Future##\n",
    "####################################\n",
    "\n",
    "Future_Prediciton = 5"
   ]
  },
  {
   "cell_type": "code",
   "execution_count": 6,
   "metadata": {},
   "outputs": [],
   "source": [
    "# The first approach will be to create a linear regresion to predict future prices\n",
    "# Let's create data frames for this first approach that way we will always have our previous data frames ready to be used in different models\n",
    "\n",
    "shiba_linear = shiba_close\n",
    "doge_linear = doge_close\n",
    "\n",
    "\n"
   ]
  },
  {
   "cell_type": "code",
   "execution_count": 7,
   "metadata": {},
   "outputs": [
    {
     "name": "stderr",
     "output_type": "stream",
     "text": [
      "C:\\Users\\mosco\\AppData\\Local\\Temp\\ipykernel_18800\\4207649664.py:3: SettingWithCopyWarning: \n",
      "A value is trying to be set on a copy of a slice from a DataFrame.\n",
      "Try using .loc[row_indexer,col_indexer] = value instead\n",
      "\n",
      "See the caveats in the documentation: https://pandas.pydata.org/pandas-docs/stable/user_guide/indexing.html#returning-a-view-versus-a-copy\n",
      "  shiba_linear['Future Prediction'] = shiba_linear[['Adj Close']].shift(-Future_Prediciton)\n",
      "C:\\Users\\mosco\\AppData\\Local\\Temp\\ipykernel_18800\\4207649664.py:4: SettingWithCopyWarning: \n",
      "A value is trying to be set on a copy of a slice from a DataFrame.\n",
      "Try using .loc[row_indexer,col_indexer] = value instead\n",
      "\n",
      "See the caveats in the documentation: https://pandas.pydata.org/pandas-docs/stable/user_guide/indexing.html#returning-a-view-versus-a-copy\n",
      "  doge_linear['Future Prediction'] = doge_linear[['Adj Close']].shift(-Future_Prediciton)\n"
     ]
    }
   ],
   "source": [
    "# Lets creat new columns on each data frame and lets call them \"Future Prediction\"\n",
    "# on this new column we are going to use shift (and our targeted days to predict)\n",
    "shiba_linear['Future Prediction'] = shiba_linear[['Adj Close']].shift(-Future_Prediciton)\n",
    "doge_linear['Future Prediction'] = doge_linear[['Adj Close']].shift(-Future_Prediciton)"
   ]
  },
  {
   "cell_type": "code",
   "execution_count": 8,
   "metadata": {},
   "outputs": [
    {
     "name": "stderr",
     "output_type": "stream",
     "text": [
      "C:\\Users\\mosco\\AppData\\Local\\Temp\\ipykernel_18800\\619071389.py:2: FutureWarning: In a future version of pandas all arguments of DataFrame.drop except for the argument 'labels' will be keyword-only.\n",
      "  shiba_x = np.array(shiba_close.drop(['Date','Future Prediction'],1))\n",
      "C:\\Users\\mosco\\AppData\\Local\\Temp\\ipykernel_18800\\619071389.py:3: FutureWarning: In a future version of pandas all arguments of DataFrame.drop except for the argument 'labels' will be keyword-only.\n",
      "  doge_x = np.array(doge_close.drop(['Date', 'Future Prediction'],1))\n"
     ]
    }
   ],
   "source": [
    "# Now we will creat the indepedent (x) data sets for each coin\n",
    "shiba_x = np.array(shiba_close.drop(['Date','Future Prediction'],1))\n",
    "doge_x = np.array(doge_close.drop(['Date', 'Future Prediction'],1))\n",
    "\n",
    "# Next we want to remove from this set the number of days that we want to forecast (this is how we will test the model)\n",
    "shiba_x = shiba_x[:-Future_Prediciton]\n",
    "doge_x = doge_x[:-Future_Prediciton]"
   ]
  },
  {
   "cell_type": "code",
   "execution_count": 9,
   "metadata": {},
   "outputs": [
    {
     "name": "stderr",
     "output_type": "stream",
     "text": [
      "C:\\Users\\mosco\\AppData\\Local\\Temp\\ipykernel_18800\\816562769.py:2: FutureWarning: In a future version of pandas all arguments of DataFrame.drop except for the argument 'labels' will be keyword-only.\n",
      "  shiba_y = np.array(shiba_close.drop(['Date','Adj Close'],1))\n",
      "C:\\Users\\mosco\\AppData\\Local\\Temp\\ipykernel_18800\\816562769.py:3: FutureWarning: In a future version of pandas all arguments of DataFrame.drop except for the argument 'labels' will be keyword-only.\n",
      "  doge_y = np.array(doge_close.drop(['Date','Adj Close'],1))\n"
     ]
    }
   ],
   "source": [
    "# Now we will create the dependent data frame (y) which will be coming fomr th \"Future Prediciton\" Column\n",
    "shiba_y = np.array(shiba_close.drop(['Date','Adj Close'],1))\n",
    "doge_y = np.array(doge_close.drop(['Date','Adj Close'],1))\n",
    "\n",
    "# We also want to remove the forecasted days from this set\n",
    "shiba_y = shiba_y[:-Future_Prediciton]\n",
    "doge_y = doge_y[:-Future_Prediciton]\n"
   ]
  },
  {
   "cell_type": "code",
   "execution_count": 10,
   "metadata": {},
   "outputs": [],
   "source": [
    "# Here we will set the traning and testing percentages that will be used in our Linear Regresion model\n",
    "\n",
    "# For Shiba\n",
    "shiba_x_train, shiba_x_test, shiba_y_train, shiba_y_test = train_test_split(shiba_x, shiba_y, test_size=0.2)\n",
    "\n",
    "# For Doge\n",
    "doge_x_train, doge_x_test, doge_y_train, doge_y_test = train_test_split(doge_x, doge_y, test_size=0.2)"
   ]
  },
  {
   "cell_type": "code",
   "execution_count": 11,
   "metadata": {},
   "outputs": [
    {
     "data": {
      "text/plain": [
       "SVR(C=1000.0, gamma=0.1)"
      ]
     },
     "execution_count": 11,
     "metadata": {},
     "output_type": "execute_result"
    }
   ],
   "source": [
    "# Now we create and train the SVM regressor for each coin\n",
    "\n",
    "#Shiba\n",
    "shiba_svr_rbf = SVR(kernel='rbf', C=1e3, gamma=0.1)\n",
    "shiba_svr_rbf.fit(shiba_x_train, np.ravel(shiba_y_train))\n",
    "\n",
    "#Doge\n",
    "doge_svr_rbf = SVR(kernel='rbf', C=1e3, gamma=0.1)\n",
    "doge_svr_rbf.fit(doge_x_train, np.ravel(doge_y_train))\n"
   ]
  },
  {
   "cell_type": "code",
   "execution_count": 12,
   "metadata": {},
   "outputs": [
    {
     "name": "stdout",
     "output_type": "stream",
     "text": [
      "Shiba confidence is :  -1.4992251627910549\n",
      "Doge confidence is :  0.1597281307845415\n"
     ]
    }
   ],
   "source": [
    "# Here we will test the confidence level on the previous calculations\n",
    "# For reference the best number we can get is 1.00\n",
    "\n",
    "shiba_svm_confidence = shiba_svr_rbf.score(shiba_x_test, shiba_y_test)\n",
    "print(\"Shiba confidence is : \", shiba_svm_confidence)\n",
    "\n",
    "doge_svm_confidence = doge_svr_rbf.score(doge_x_test, doge_y_test)\n",
    "print(\"Doge confidence is : \", doge_svm_confidence)"
   ]
  },
  {
   "cell_type": "markdown",
   "metadata": {},
   "source": [
    "### SVM Regressor\n",
    "\n",
    "From the results above, you can see that both coins are pretty hard to group/label the prices or \"learn\" from them. \n",
    "The negative confidence in Shiba means that the program did not learn anything from the data set.\n",
    "Even though Doge is considerably low, it demonstrated to be a bit easier to \"learn\" from the data provided. \n",
    "\n",
    "These numbers would be different if they looked at steady numbers like regular stocks. Or any assets that are not as volatile as Cryptocurrency at the moment. SVM seems inefficient in trying to group prices for these two coins.\n",
    "\n",
    "Nevertheless, we will still try to apply the regression model to both coins.\n",
    "\n"
   ]
  },
  {
   "cell_type": "code",
   "execution_count": 13,
   "metadata": {},
   "outputs": [
    {
     "name": "stdout",
     "output_type": "stream",
     "text": [
      "Shiba Confidence Score is :  0.8355896081585652\n"
     ]
    }
   ],
   "source": [
    "# Here we will create the Liner Regresion for Shiba Inu\n",
    "\n",
    "shiba_lr = LinearRegression()\n",
    "\n",
    "# Now we will trian the model \n",
    "\n",
    "shiba_lr.fit(shiba_x_train, shiba_y_train)\n",
    "\n",
    "# Now we will test the confidence score\n",
    "shiba_lr_confidence = shiba_lr.score(shiba_x_test, shiba_y_test)\n",
    "print(\"Shiba Confidence Score is : \", shiba_lr_confidence)\n"
   ]
  },
  {
   "cell_type": "code",
   "execution_count": 14,
   "metadata": {},
   "outputs": [
    {
     "name": "stdout",
     "output_type": "stream",
     "text": [
      "Doge Confidence Score is :  0.9388865307622964\n"
     ]
    }
   ],
   "source": [
    "# Here we will create the Liner Regresion for Doge\n",
    "\n",
    "doge_lr = LinearRegression()\n",
    "\n",
    "# Now we will trian the model \n",
    "\n",
    "doge_lr.fit(doge_x_train, doge_y_train)\n",
    "\n",
    "# Now we will test the confidence score\n",
    "doge_lr_confidence = doge_lr.score(doge_x_test, doge_y_test)\n",
    "print(\"Doge Confidence Score is : \", doge_lr_confidence)"
   ]
  },
  {
   "cell_type": "markdown",
   "metadata": {},
   "source": [
    "### Linear Regression\n",
    "\n",
    "It looks like Linear Regression will be our best bet to analyze these coins.\n",
    "\n",
    "Let's go ahead and try to predict future prices for each coin using linear regression"
   ]
  },
  {
   "cell_type": "code",
   "execution_count": 15,
   "metadata": {},
   "outputs": [
    {
     "name": "stderr",
     "output_type": "stream",
     "text": [
      "C:\\Users\\mosco\\AppData\\Local\\Temp\\ipykernel_18800\\928744438.py:4: FutureWarning: In a future version of pandas all arguments of DataFrame.drop except for the argument 'labels' will be keyword-only.\n",
      "  shiba_forecast = np.array(shiba_close.drop(['Date', 'Future Prediction'],1))[-Future_Prediciton:]\n",
      "C:\\Users\\mosco\\AppData\\Local\\Temp\\ipykernel_18800\\928744438.py:7: FutureWarning: In a future version of pandas all arguments of DataFrame.drop except for the argument 'labels' will be keyword-only.\n",
      "  doge_forecast = np.array(doge_close.drop(['Date','Future Prediction'],1))[-Future_Prediciton:]\n"
     ]
    }
   ],
   "source": [
    "# Here we are only going to keep the amount of days we want to predict focusing on Adj Close Price\n",
    "\n",
    "#Shiba\n",
    "shiba_forecast = np.array(shiba_close.drop(['Date', 'Future Prediction'],1))[-Future_Prediciton:]\n",
    "\n",
    "#Doge\n",
    "doge_forecast = np.array(doge_close.drop(['Date','Future Prediction'],1))[-Future_Prediciton:]"
   ]
  },
  {
   "cell_type": "code",
   "execution_count": 16,
   "metadata": {},
   "outputs": [
    {
     "name": "stdout",
     "output_type": "stream",
     "text": [
      "[[0.000026]\n",
      " [0.000026]\n",
      " [0.000027]\n",
      " [0.000026]\n",
      " [0.000026]]\n"
     ]
    }
   ],
   "source": [
    "# Finally let's look at the predictions for future prices\n",
    "\n",
    "#Shiba\n",
    "shiba_prediciton = shiba_lr.predict(shiba_forecast)\n",
    "\n",
    "np.set_printoptions(formatter={'float_kind':'{:f}'.format})\n",
    "print(shiba_prediciton)"
   ]
  },
  {
   "cell_type": "code",
   "execution_count": 17,
   "metadata": {},
   "outputs": [
    {
     "name": "stdout",
     "output_type": "stream",
     "text": [
      "[[0.134670]\n",
      " [0.138006]\n",
      " [0.135709]\n",
      " [0.142918]\n",
      " [0.144962]]\n"
     ]
    }
   ],
   "source": [
    "#Doge\n",
    "\n",
    "doge_prediction = doge_lr.predict(doge_forecast)\n",
    "\n",
    "print(doge_prediction)"
   ]
  },
  {
   "cell_type": "markdown",
   "metadata": {},
   "source": [
    "#### Cleaning before plotting\n",
    "Before plotting for visualization of the data we need to convert our numpy arrays back to a dataframe so we can add future dates and for them to be related to the prices"
   ]
  },
  {
   "cell_type": "code",
   "execution_count": 18,
   "metadata": {},
   "outputs": [
    {
     "name": "stdout",
     "output_type": "stream",
     "text": [
      "   Price Prediction Date\n",
      "0          0.134670     \n",
      "1          0.138006     \n",
      "2          0.135709     \n",
      "3          0.142918     \n",
      "4          0.144962     \n"
     ]
    }
   ],
   "source": [
    "# Here we transform np array to a dataframe adding a column called \"Price Prediction\"\n",
    "shiba_np_to_df = pd.DataFrame(shiba_prediciton, columns = ['Price Prediction'])\n",
    "doge_np_to_df = pd.DataFrame(doge_prediction, columns = ['Price Prediction'])\n",
    "#Then we are going to add a column that will take the last date of the original dataframe + the amount of days we want to predict\n",
    "shiba_np_to_df[\"Date\"] = ''\n",
    "doge_np_to_df[\"Date\"] = ''\n",
    "print(doge_np_to_df)"
   ]
  },
  {
   "cell_type": "code",
   "execution_count": 19,
   "metadata": {},
   "outputs": [
    {
     "name": "stderr",
     "output_type": "stream",
     "text": [
      "C:\\Users\\mosco\\AppData\\Local\\Temp\\ipykernel_18800\\3786277949.py:4: SettingWithCopyWarning: \n",
      "A value is trying to be set on a copy of a slice from a DataFrame\n",
      "\n",
      "See the caveats in the documentation: https://pandas.pydata.org/pandas-docs/stable/user_guide/indexing.html#returning-a-view-versus-a-copy\n",
      "  shiba_np_to_df['Date'].iloc[0] = shiba_close['Date'].iloc[-1]\n",
      "C:\\Users\\mosco\\AppData\\Local\\Temp\\ipykernel_18800\\3786277949.py:5: SettingWithCopyWarning: \n",
      "A value is trying to be set on a copy of a slice from a DataFrame\n",
      "\n",
      "See the caveats in the documentation: https://pandas.pydata.org/pandas-docs/stable/user_guide/indexing.html#returning-a-view-versus-a-copy\n",
      "  doge_np_to_df['Date'].iloc[0] = doge_close['Date'].iloc[-1]\n"
     ]
    }
   ],
   "source": [
    "# Now we will have to populate the Date column using a few fucntions along with a bit of data transfers\n",
    "\n",
    "#First we will take the last day of the original dataframe and populate the first row in our new dataframe like so:\n",
    "shiba_np_to_df['Date'].iloc[0] = shiba_close['Date'].iloc[-1]\n",
    "doge_np_to_df['Date'].iloc[0] = doge_close['Date'].iloc[-1]\n",
    "\n",
    "# The following function is going to take 2 arguments. One is going to be the first day of our dataframe \"x_np_to_df\"\n",
    "# The second argument is going to be a floating variable to store the future dates and add them to the dataframe as needed. \n",
    "\n",
    "def add_day (x,y):\n",
    "    date_x = parser.parse(x)\n",
    "\n",
    "    for i in range(Future_Prediciton):\n",
    "\n",
    "        date_y = date_x + datetime.timedelta(days= i +1)\n",
    "\n",
    "        y.append(date_y)\n",
    "    y = pd.to_datetime(y)\n"
   ]
  },
  {
   "cell_type": "code",
   "execution_count": 20,
   "metadata": {},
   "outputs": [],
   "source": [
    "# Now we will run the function on both of our newly created data frames for each coin\n",
    "\n",
    "#Shiba\n",
    "Shib = []\n",
    "add_day(shiba_np_to_df['Date'].iloc[0],Shib)\n",
    "    #Here we assing the new \"Datetime Index\" to the current empty \"Date\" column\n",
    "shiba_np_to_df['Date'] = Shib\n",
    "\n",
    "#Doge\n",
    "Doge = []\n",
    "add_day(doge_np_to_df['Date'].iloc[0],Doge)\n",
    "    #Here we assing the new \"Datetime Index\" to the current empty \"Date\" column\n",
    "doge_np_to_df['Date'] = Doge\n",
    "\n"
   ]
  },
  {
   "cell_type": "code",
   "execution_count": 21,
   "metadata": {},
   "outputs": [],
   "source": [
    "# Now let's graph both linear regressions to see which would be the better option to buy today\n",
    "\n",
    "data_shib = shiba_np_to_df\n",
    "data_doge = doge_np_to_df\n",
    "\n",
    "# Just before graphing we need to clean up the dates so they won't be cluttering the data in our graphs.\n",
    "data_shib['Date'] = data_shib['Date'].dt.strftime('%m-%d')\n",
    "data_doge['Date'] = data_doge['Date'].dt.strftime('%m-%d')\n",
    "\n",
    "\n"
   ]
  },
  {
   "cell_type": "code",
   "execution_count": 22,
   "metadata": {},
   "outputs": [
    {
     "data": {
      "image/png": "[encoded data removed]",
      "text/plain": [
       "<Figure size 432x288 with 1 Axes>"
      ]
     },
     "metadata": {},
     "output_type": "display_data"
    },
    {
     "data": {
      "image/png": "[encoded data removed]",
      "text/plain": [
       "<Figure size 432x288 with 1 Axes>"
      ]
     },
     "metadata": {},
     "output_type": "display_data"
    }
   ],
   "source": [
    "sbs.set(font_scale=0.9, style=\"ticks\")\n",
    "sbs.pointplot(x='Date', y='Price Prediction', data= data_doge)\n",
    "plt.show()\n",
    "\n",
    "sbs.set(font_scale=0.9, style=\"ticks\")\n",
    "sbs.pointplot(x='Date', y='Price Prediction', data= data_shib)\n",
    "plt.show()"
   ]
  },
  {
   "cell_type": "markdown",
   "metadata": {},
   "source": [
    "## Final thoughts \n",
    "\n",
    "At this point, comparing both graphs above, I think the safest bet will be Dogecoin. Shiba seems to hold a steady value, but that big spike on 04/09/22 can also indicate a significant price decrease in the future. The upward trend in Dogecoin can somewhat give us a better chance at making a successful \"swing trade\" jumping in on around 4-5-2022 and making sure to not sell until after 04-08-2022. Cryptocurrency comes with high risk/high volatility. Even though we are applying the correct approach to predict (or closely predict) prices in the future, the nature of this investment will have a chance of deviating completely from our graphs. "
   ]
  }
 ],
 "metadata": {
  "interpreter": {
   "hash": "2ab52368cbb5ce394f6e8cc4961c91973870b823039c8128862277bd991d513a"
  },
  "kernelspec": {
   "display_name": "Python 3.8.5 ('base')",
   "language": "python",
   "name": "python3"
  },
  "language_info": {
   "codemirror_mode": {
    "name": "ipython",
    "version": 3
   },
   "file_extension": ".py",
   "mimetype": "text/x-python",
   "name": "python",
   "nbconvert_exporter": "python",
   "pygments_lexer": "ipython3",
   "version": "3.8.5"
  },
  "orig_nbformat": 4
 },
 "nbformat": 4,
 "nbformat_minor": 2
}
